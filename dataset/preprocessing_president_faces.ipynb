{
 "cells": [
  {
   "cell_type": "code",
   "execution_count": 1,
   "metadata": {},
   "outputs": [],
   "source": [
    "import face_recognition\n",
    "import imutils\n",
    "from imutils.paths import list_images\n",
    "import pandas as pd\n",
    "import numpy as np"
   ]
  },
  {
   "cell_type": "code",
   "execution_count": 2,
   "metadata": {},
   "outputs": [
    {
     "output_type": "execute_result",
     "data": {
      "text/plain": "['president/Kosiniak-Kamysz/Clipboard08.jpg',\n 'president/Kosiniak-Kamysz/Clipboard10.jpg',\n 'president/Kosiniak-Kamysz/Clipboard05.jpg',\n 'president/Kosiniak-Kamysz/Clipboard04.jpg',\n 'president/Kosiniak-Kamysz/Clipboard09.jpg',\n 'president/Kosiniak-Kamysz/Clipboard07.jpg',\n 'president/Kosiniak-Kamysz/Clipboard01.jpg',\n 'president/Kosiniak-Kamysz/Clipboard03.jpg',\n 'president/Kosiniak-Kamysz/Clipboard02.jpg',\n 'president/Kosiniak-Kamysz/Clipboard06.jpg']"
     },
     "metadata": {},
     "execution_count": 2
    }
   ],
   "source": [
    "list(list_images(\"president/\"))[:10]"
   ]
  },
  {
   "cell_type": "code",
   "execution_count": 3,
   "metadata": {},
   "outputs": [],
   "source": [
    "def encode_faces(img_path):\n",
    "    img = face_recognition.load_image_file(img_path)\n",
    "    name = img_path.split(\"/\")[-2]\n",
    "    \n",
    "    # resizing to 800 on long side if needed\n",
    "    if max(img.shape) > 800:\n",
    "        arg = [\"height\", \"width\"][np.argmax(img.shape)]\n",
    "        img = imutils.resize(img, **{arg:800})\n",
    "    \n",
    "    # find all the faces and build encodings\n",
    "    face_locations = face_recognition.face_locations(img, model=\"cnn\")\n",
    "    # if no faces located return zeros\n",
    "    if len(face_locations) < 1:\n",
    "        print(f\"WARNING - no face locations found @ {img_path}\")\n",
    "        return name, np.zeros(128)\n",
    "    print(f\"Found: {len(face_locations)} face location(s) @ {img_path}\")\n",
    "    face_encodings = face_recognition.face_encodings(img, face_locations)\n",
    "\n",
    "    # should be more elegant but for know is fine\n",
    "    return name, face_encodings[0] "
   ]
  },
  {
   "cell_type": "code",
   "execution_count": 4,
   "metadata": {},
   "outputs": [
    {
     "output_type": "stream",
     "name": "stdout",
     "text": "Found: 1 face location(s) @ president/Kosiniak-Kamysz/Clipboard08.jpg\nFound: 1 face location(s) @ president/Kosiniak-Kamysz/Clipboard10.jpg\nFound: 1 face location(s) @ president/Kosiniak-Kamysz/Clipboard05.jpg\nFound: 1 face location(s) @ president/Kosiniak-Kamysz/Clipboard04.jpg\nFound: 1 face location(s) @ president/Kosiniak-Kamysz/Clipboard09.jpg\nFound: 1 face location(s) @ president/Kosiniak-Kamysz/Clipboard07.jpg\nFound: 1 face location(s) @ president/Kosiniak-Kamysz/Clipboard01.jpg\nFound: 1 face location(s) @ president/Kosiniak-Kamysz/Clipboard03.jpg\nFound: 1 face location(s) @ president/Kosiniak-Kamysz/Clipboard02.jpg\nFound: 1 face location(s) @ president/Kosiniak-Kamysz/Clipboard06.jpg\nFound: 1 face location(s) @ president/Andrzej_Duda/Clipboard08.jpg\nFound: 1 face location(s) @ president/Andrzej_Duda/Clipboard10.jpg\nFound: 1 face location(s) @ president/Andrzej_Duda/Clipboard05.jpg\nFound: 1 face location(s) @ president/Andrzej_Duda/Clipboard04.jpg\nFound: 1 face location(s) @ president/Andrzej_Duda/Clipboard09.jpg\nFound: 1 face location(s) @ president/Andrzej_Duda/Clipboard07.jpg\nFound: 1 face location(s) @ president/Andrzej_Duda/Clipboard01.jpg\nFound: 1 face location(s) @ president/Andrzej_Duda/Clipboard03.jpg\nFound: 1 face location(s) @ president/Andrzej_Duda/Clipboard02.jpg\nFound: 1 face location(s) @ president/Andrzej_Duda/Clipboard06.jpg\nFound: 1 face location(s) @ president/Krzysztof_ Bosak/Clipboard08.jpg\nFound: 1 face location(s) @ president/Krzysztof_ Bosak/Clipboard10.jpg\nFound: 1 face location(s) @ president/Krzysztof_ Bosak/Clipboard05.jpg\nFound: 1 face location(s) @ president/Krzysztof_ Bosak/Clipboard04.jpg\nFound: 1 face location(s) @ president/Krzysztof_ Bosak/Clipboard09.jpg\nFound: 1 face location(s) @ president/Krzysztof_ Bosak/Clipboard07.jpg\nFound: 1 face location(s) @ president/Krzysztof_ Bosak/Clipboard12.jpg\nFound: 1 face location(s) @ president/Krzysztof_ Bosak/Clipboard01.jpg\nFound: 1 face location(s) @ president/Krzysztof_ Bosak/Clipboard03.jpg\nFound: 1 face location(s) @ president/Krzysztof_ Bosak/Clipboard11.jpg\nFound: 1 face location(s) @ president/Krzysztof_ Bosak/Clipboard02.jpg\nFound: 1 face location(s) @ president/Krzysztof_ Bosak/Clipboard06.jpg\nFound: 1 face location(s) @ president/Malgorzata_Kidawa_Błonska/Clipboard08.jpg\nFound: 1 face location(s) @ president/Malgorzata_Kidawa_Błonska/Clipboard05.jpg\nFound: 1 face location(s) @ president/Malgorzata_Kidawa_Błonska/Clipboard04.jpg\nFound: 1 face location(s) @ president/Malgorzata_Kidawa_Błonska/Clipboard09.jpg\nFound: 1 face location(s) @ president/Malgorzata_Kidawa_Błonska/Clipboard07.jpg\nFound: 1 face location(s) @ president/Malgorzata_Kidawa_Błonska/Clipboard01.jpg\nFound: 1 face location(s) @ president/Malgorzata_Kidawa_Błonska/Clipboard03.jpg\nFound: 1 face location(s) @ president/Malgorzata_Kidawa_Błonska/Clipboard02.jpg\nFound: 1 face location(s) @ president/Malgorzata_Kidawa_Błonska/Clipboard06.jpg\nFound: 1 face location(s) @ president/Szymon_Holownia/Clipboard08.jpg\nFound: 1 face location(s) @ president/Szymon_Holownia/Clipboard05.jpg\nFound: 1 face location(s) @ president/Szymon_Holownia/Clipboard04.jpg\nFound: 1 face location(s) @ president/Szymon_Holownia/Clipboard09.jpg\nFound: 1 face location(s) @ president/Szymon_Holownia/Clipboard07.jpg\nFound: 1 face location(s) @ president/Szymon_Holownia/Clipboard01.jpg\nFound: 1 face location(s) @ president/Szymon_Holownia/Clipboard03.jpg\nFound: 1 face location(s) @ president/Szymon_Holownia/Clipboard02.jpg\nFound: 1 face location(s) @ president/Szymon_Holownia/Clipboard06.jpg\nFound: 1 face location(s) @ president/Robert_Biedron/1.jpg\nFound: 1 face location(s) @ president/Robert_Biedron/5.jpeg\nFound: 1 face location(s) @ president/Robert_Biedron/10.jpg\nFound: 1 face location(s) @ president/Robert_Biedron/2.jpg\nFound: 1 face location(s) @ president/Robert_Biedron/4.jpeg\nFound: 1 face location(s) @ president/Robert_Biedron/11.jpg\nFound: 1 face location(s) @ president/Robert_Biedron/7.jpg\nFound: 1 face location(s) @ president/Robert_Biedron/6.jpg\nFound: 1 face location(s) @ president/Robert_Biedron/3.jpg\nFound: 1 face location(s) @ president/Robert_Biedron/8.jpg\n"
    }
   ],
   "source": [
    "main_list = []\n",
    "for img_path in list_images(\"president/\"):\n",
    "    name, encoding = encode_faces(img_path)\n",
    "    main_list.append(\n",
    "        {\"name\":name, \"face_encodings\":encoding}\n",
    "    )"
   ]
  },
  {
   "cell_type": "code",
   "execution_count": 5,
   "metadata": {},
   "outputs": [
    {
     "output_type": "execute_result",
     "data": {
      "text/plain": "              name                                     face_encodings\n0  Kosiniak-Kamysz  [-0.019277170300483704, 0.07574091851711273, -...\n1  Kosiniak-Kamysz  [-0.1315889209508896, 0.029519854113459587, -0...\n2  Kosiniak-Kamysz  [-0.05956296622753143, 0.061692047864198685, 0...\n3  Kosiniak-Kamysz  [-0.06625864654779434, 0.07742806524038315, -0...\n4  Kosiniak-Kamysz  [-0.039101336151361465, 0.07217972725629807, -...",
      "text/html": "<div>\n<style scoped>\n    .dataframe tbody tr th:only-of-type {\n        vertical-align: middle;\n    }\n\n    .dataframe tbody tr th {\n        vertical-align: top;\n    }\n\n    .dataframe thead th {\n        text-align: right;\n    }\n</style>\n<table border=\"1\" class=\"dataframe\">\n  <thead>\n    <tr style=\"text-align: right;\">\n      <th></th>\n      <th>name</th>\n      <th>face_encodings</th>\n    </tr>\n  </thead>\n  <tbody>\n    <tr>\n      <th>0</th>\n      <td>Kosiniak-Kamysz</td>\n      <td>[-0.019277170300483704, 0.07574091851711273, -...</td>\n    </tr>\n    <tr>\n      <th>1</th>\n      <td>Kosiniak-Kamysz</td>\n      <td>[-0.1315889209508896, 0.029519854113459587, -0...</td>\n    </tr>\n    <tr>\n      <th>2</th>\n      <td>Kosiniak-Kamysz</td>\n      <td>[-0.05956296622753143, 0.061692047864198685, 0...</td>\n    </tr>\n    <tr>\n      <th>3</th>\n      <td>Kosiniak-Kamysz</td>\n      <td>[-0.06625864654779434, 0.07742806524038315, -0...</td>\n    </tr>\n    <tr>\n      <th>4</th>\n      <td>Kosiniak-Kamysz</td>\n      <td>[-0.039101336151361465, 0.07217972725629807, -...</td>\n    </tr>\n  </tbody>\n</table>\n</div>"
     },
     "metadata": {},
     "execution_count": 5
    }
   ],
   "source": [
    "df = pd.DataFrame(main_list)\n",
    "df.head()"
   ]
  },
  {
   "cell_type": "code",
   "execution_count": 6,
   "metadata": {},
   "outputs": [],
   "source": [
    "name_dict = {\n",
    "    'Malgorzata_Kidawa_Błonska':'Małgorzata Kidawa-Błońska', \n",
    "    'Andrzej_Duda':'Andrzej Duda', \n",
    "    'Robert_Biedron':'Robert Biedroń', \n",
    "    'Kosiniak-Kamysz':'Władysław Kosiniak-Kamysz', \n",
    "    'Piotr Liroy-Marzec':'Piotr Liroy-Marzec', \n",
    "    'Krzysztof_ Bosak':'Krzysztof Bosak', \n",
    "    'Szymon_Holownia':'Szymon Hołownia',\n",
    "    'Leszek_Samborski':'Leszek Samborski',\n",
    "    'Piotr_Bakun':'Piotr Bakun',\n",
    "    'Stanislaw_Zoltek':'Stanisław Żółtek',\n",
    "    'Wojciech_Podjacki':'Wojciech Podjacki'\n",
    "}"
   ]
  },
  {
   "cell_type": "code",
   "execution_count": 7,
   "metadata": {},
   "outputs": [],
   "source": [
    "df[\"name\"] = df[\"name\"].map(name_dict)"
   ]
  },
  {
   "cell_type": "code",
   "execution_count": 8,
   "metadata": {},
   "outputs": [],
   "source": [
    "df.to_pickle(\"president_faces_df.pickle\")"
   ]
  },
  {
   "cell_type": "code",
   "execution_count": null,
   "metadata": {},
   "outputs": [],
   "source": []
  }
 ],
 "metadata": {
  "kernelspec": {
   "display_name": "Python 3",
   "language": "python",
   "name": "python3"
  },
  "language_info": {
   "codemirror_mode": {
    "name": "ipython",
    "version": 3
   },
   "file_extension": ".py",
   "mimetype": "text/x-python",
   "name": "python",
   "nbconvert_exporter": "python",
   "pygments_lexer": "ipython3",
   "version": "3.8.0-final"
  }
 },
 "nbformat": 4,
 "nbformat_minor": 2
}
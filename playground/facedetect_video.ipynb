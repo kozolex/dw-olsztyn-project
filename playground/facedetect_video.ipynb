{
 "nbformat": 4,
 "nbformat_minor": 2,
 "metadata": {
  "language_info": {
   "name": "python",
   "codemirror_mode": {
    "name": "ipython",
    "version": 3
   },
   "version": "3.8.1-final"
  },
  "orig_nbformat": 2,
  "file_extension": ".py",
  "mimetype": "text/x-python",
  "name": "python",
  "npconvert_exporter": "python",
  "pygments_lexer": "ipython3",
  "version": 3,
  "kernelspec": {
   "name": "python38164bitfacedetectconda2d3cb0a4a0064ada9b2ed2678f4035cf",
   "display_name": "Python 3.8.1 64-bit ('facedetect': conda)"
  }
 },
 "cells": [
  {
   "source": [
    "# import the necessary packages\n",
    "from imutils.video import VideoStream\n",
    "import face_recognition\n",
    "import argparse\n",
    "import imutils\n",
    "import pickle\n",
    "import time\n",
    "import cv2"
   ],
   "cell_type": "code",
   "outputs": [],
   "metadata": {},
   "execution_count": 11
  },
  {
   "source": [
    "# construct the argument parser and parse the arguments\n",
    "ap = argparse.ArgumentParser()\n",
    "ap.add_argument(\"-e\", \"--encodings\", required=True,\n",
    "\thelp=\"path to serialized db of facial encodings\")\n",
    "ap.add_argument(\"-o\", \"--output\", type=str,\n",
    "\thelp=\"path to output video\")\n",
    "ap.add_argument(\"-y\", \"--display\", type=int, default=1,\n",
    "\thelp=\"whether or not to display output frame to screen\")\n",
    "ap.add_argument(\"-d\", \"--detection-method\", type=str, default=\"cnn\",\n",
    "\thelp=\"face detection model to use: either `hog` or `cnn`\")\n",
    "args = vars(ap.parse_args())"
   ],
   "cell_type": "code",
   "outputs": [
    {
     "output_type": "stream",
     "name": "stderr",
     "text": "usage: ipykernel_launcher.py [-h] -e ENCODINGS [-o OUTPUT] [-y DISPLAY]\n                             [-d DETECTION_METHOD]\nipykernel_launcher.py: error: the following arguments are required: -e/--encodings\n"
    },
    {
     "output_type": "error",
     "ename": "SystemExit",
     "evalue": "2",
     "traceback": [
      "An exception has occurred, use %tb to see the full traceback.\n",
      "\u001b[0;31mSystemExit\u001b[0m\u001b[0;31m:\u001b[0m 2\n"
     ]
    }
   ],
   "metadata": {},
   "execution_count": 12
  },
  {
   "source": [
    "# load the known faces and embeddings\n",
    "print(\"[INFO] loading encodings...\")\n",
    "data = pickle.loads(open(args[\"encodings\"], \"rb\").read())\n",
    " \n",
    "# initialize the video stream and pointer to output video file, then\n",
    "# allow the camera sensor to warm up\n",
    "print(\"[INFO] starting video stream...\")\n",
    "vs = VideoStream(src=0).start()\n",
    "writer = None\n",
    "time.sleep(2.0)"
   ],
   "cell_type": "code",
   "outputs": [
    {
     "output_type": "stream",
     "name": "stdout",
     "text": "[INFO] loading encodings...\n"
    },
    {
     "output_type": "error",
     "ename": "NameError",
     "evalue": "name 'args' is not defined",
     "traceback": [
      "\u001b[0;31m---------------------------------------------------------------------------\u001b[0m",
      "\u001b[0;31mNameError\u001b[0m                                 Traceback (most recent call last)",
      "\u001b[0;32m<ipython-input-13-0b0aa31f8ea5>\u001b[0m in \u001b[0;36m<module>\u001b[0;34m\u001b[0m\n\u001b[1;32m      1\u001b[0m \u001b[0;31m# load the known faces and embeddings\u001b[0m\u001b[0;34m\u001b[0m\u001b[0;34m\u001b[0m\u001b[0;34m\u001b[0m\u001b[0m\n\u001b[1;32m      2\u001b[0m \u001b[0mprint\u001b[0m\u001b[0;34m(\u001b[0m\u001b[0;34m\"[INFO] loading encodings...\"\u001b[0m\u001b[0;34m)\u001b[0m\u001b[0;34m\u001b[0m\u001b[0;34m\u001b[0m\u001b[0m\n\u001b[0;32m----> 3\u001b[0;31m \u001b[0mdata\u001b[0m \u001b[0;34m=\u001b[0m \u001b[0mpickle\u001b[0m\u001b[0;34m.\u001b[0m\u001b[0mloads\u001b[0m\u001b[0;34m(\u001b[0m\u001b[0mopen\u001b[0m\u001b[0;34m(\u001b[0m\u001b[0margs\u001b[0m\u001b[0;34m[\u001b[0m\u001b[0;34m\"encodings\"\u001b[0m\u001b[0;34m]\u001b[0m\u001b[0;34m,\u001b[0m \u001b[0;34m\"rb\"\u001b[0m\u001b[0;34m)\u001b[0m\u001b[0;34m.\u001b[0m\u001b[0mread\u001b[0m\u001b[0;34m(\u001b[0m\u001b[0;34m)\u001b[0m\u001b[0;34m)\u001b[0m\u001b[0;34m\u001b[0m\u001b[0;34m\u001b[0m\u001b[0m\n\u001b[0m\u001b[1;32m      4\u001b[0m \u001b[0;34m\u001b[0m\u001b[0m\n\u001b[1;32m      5\u001b[0m \u001b[0;31m# initialize the video stream and pointer to output video file, then\u001b[0m\u001b[0;34m\u001b[0m\u001b[0;34m\u001b[0m\u001b[0;34m\u001b[0m\u001b[0m\n",
      "\u001b[0;31mNameError\u001b[0m: name 'args' is not defined"
     ]
    }
   ],
   "metadata": {},
   "execution_count": 13
  },
  {
   "cell_type": "code",
   "execution_count": null,
   "metadata": {},
   "outputs": [],
   "source": [
    "# loop over frames from the video file stream\n",
    "while True:\n",
    "\t# grab the frame from the threaded video stream\n",
    "\tframe = vs.read()\n",
    "\t\n",
    "\t# convert the input frame from BGR to RGB then resize it to have\n",
    "\t# a width of 750px (to speedup processing)\n",
    "\trgb = cv2.cvtColor(frame, cv2.COLOR_BGR2RGB)\n",
    "\trgb = imutils.resize(frame, width=750)\n",
    "\tr = frame.shape[1] / float(rgb.shape[1])\n",
    " \n",
    "\t# detect the (x, y)-coordinates of the bounding boxes\n",
    "\t# corresponding to each face in the input frame, then compute\n",
    "\t# the facial embeddings for each face\n",
    "\tboxes = face_recognition.face_locations(rgb,\n",
    "\t\tmodel=args[\"detection_method\"])\n",
    "\tencodings = face_recognition.face_encodings(rgb, boxes)\n",
    "\tnames = []\n",
    "    \n",
    "\t# loop over the facial embeddings\n",
    "\tfor encoding in encodings:\n",
    "\t\t# attempt to match each face in the input image to our known\n",
    "\t\t# encodings\n",
    "\t\tmatches = face_recognition.compare_faces(data[\"encodings\"],\n",
    "\t\t\tencoding)\n",
    "\t\tname = \"Unknown\"\n",
    " \n",
    "\t\t# check to see if we have found a match\n",
    "\t\tif True in matches:\n",
    "\t\t\t# find the indexes of all matched faces then initialize a\n",
    "\t\t\t# dictionary to count the total number of times each face\n",
    "\t\t\t# was matched\n",
    "\t\t\tmatchedIdxs = [i for (i, b) in enumerate(matches) if b]\n",
    "\t\t\tcounts = {}\n",
    " \n",
    "\t\t\t# loop over the matched indexes and maintain a count for\n",
    "\t\t\t# each recognized face face\n",
    "\t\t\tfor i in matchedIdxs:\n",
    "\t\t\t\tname = data[\"names\"][i]\n",
    "\t\t\t\tcounts[name] = counts.get(name, 0) + 1\n",
    " \n",
    "\t\t\t# determine the recognized face with the largest number\n",
    "\t\t\t# of votes (note: in the event of an unlikely tie Python\n",
    "\t\t\t# will select first entry in the dictionary)\n",
    "\t\t\tname = max(counts, key=counts.get)\n",
    "\t\t\n",
    "\t\t# update the list of names\n",
    "\t\tnames.append(na\n",
    "\t# loop over the recognized faces\n",
    "\tfor ((top, right, bottom, left), name) in zip(boxes, names):\n",
    "\t\t# rescale the face coordinates\n",
    "\t\ttop = int(top * r)\n",
    "\t\tright = int(right * r)\n",
    "\t\tbottom = int(bottom * r)\n",
    "\t\tleft = int(left * r)\n",
    " \n",
    "\t\t# draw the predicted face name on the image\n",
    "\t\tcv2.rectangle(frame, (left, top), (right, bottom),\n",
    "\t\t\t(0, 255, 0), 2)\n",
    "\t\ty = top - 15 if top - 15 > 15 else top + 15\n",
    "\t\tcv2.putText(frame, name, (left, y), cv2.FONT_HERSHEY_SIMPLEX,\n",
    "\t\t\t0.75, (0, 255, 0), 2)\n",
    "\n",
    "\t# if the video writer is None *AND* we are supposed to write\n",
    "\t# the output video to disk initialize the writer\n",
    "\tif writer is None and args[\"output\"] is not None:\n",
    "\t\tfourcc = cv2.VideoWriter_fourcc(*\"MJPG\")\n",
    "\t\twriter = cv2.VideoWriter(args[\"output\"], fourcc, 20,\n",
    "\t\t\t(frame.shape[1], frame.shape[0]), True)\n",
    " \n",
    "\t# if the writer is not None, write the frame with recognized\n",
    "\t# faces to disk\n",
    "\tif writer is not None:\n",
    "\t\twriter.write(frame)    "
   ]
  }
 ]
}
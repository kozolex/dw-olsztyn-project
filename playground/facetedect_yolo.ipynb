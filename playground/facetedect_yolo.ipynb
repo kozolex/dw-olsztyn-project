{
 "nbformat": 4,
 "nbformat_minor": 2,
 "metadata": {
  "language_info": {
   "name": "python",
   "codemirror_mode": {
    "name": "ipython",
    "version": 3
   },
   "version": "3.8.1-final"
  },
  "orig_nbformat": 2,
  "file_extension": ".py",
  "mimetype": "text/x-python",
  "name": "python",
  "npconvert_exporter": "python",
  "pygments_lexer": "ipython3",
  "version": 3,
  "kernelspec": {
   "name": "python38164bitfacedetectconda2d3cb0a4a0064ada9b2ed2678f4035cf",
   "display_name": "Python 3.8.1 64-bit ('facedetect': conda)"
  }
 },
 "cells": [
  {
   "source": [
    "# OpenCV program to detect face in real time\n",
    "# import libraries of python OpenCV \n",
    "# where its functionality resides\n",
    "import cv2 \n",
    "import requests\n",
    "import argparse \n",
    "import os"
   ],
   "cell_type": "code",
   "outputs": [],
   "metadata": {},
   "execution_count": 5
  },
  {
   "source": [
    " # parse arguments\n",
    "parser = argparse.ArgumentParser(description='YOLO Face Detection')\n",
    "parser.add_argument('--src', action='store', default=0, nargs='?', help='Set video source; default is usb webcam')\n",
    "parser.add_argument('--w', action='store', default=320, nargs='?', help='Set video width')\n",
    "parser.add_argument('--h', action='store', default=240, nargs='?', help='Set video height')\n",
    "args = parser.parse_args()\n",
    " \n",
    "# face detection endpoint (deepsight sdk runs as http service on port 5000)\n",
    "face_api = &amp;amp;amp;amp;quot;http://127.0.0.1:5000/inferImage?detector=yolo&amp;amp;amp;amp;quot;\n",
    " \n",
    "# capture frames from a camera\n",
    "cap = cv2.VideoCapture(args.src)\n",
    " \n",
    "# loop runs if capturing has been initialized.\n",
    "while 1:    \n",
    "         \n",
    "    # reads frames from a camera\n",
    "    ret, img = cap.read() \n",
    "    img = cv2.resize(img, (int(args.w),int(args.h)))    \n",
    "    r, imgbuf = cv2.imencode(&amp;amp;amp;amp;quot;.bmp&amp;amp;amp;amp;quot;, img)    \n",
    "    image = {'pic':bytearray(imgbuf)}\n",
    "      \n",
    "    r = requests.post(face_api, files=image)\n",
    "    result = r.json()   \n",
    "      \n",
    "    if len(result) &amp;amp;amp;amp;gt; 1:\n",
    "        faces = result[:-1]\n",
    "        for face in faces:\n",
    "            rect = [face[i] for i in ['faceRectangle']][0]\n",
    "            x,y,w,h, confidence = [rect[i] for i in ['left', 'top', 'width', 'height', 'confidence']]\n",
    "            # discard if confidence is too low\n",
    "            if confidence &amp;amp;amp;amp;lt; 0.6:\n",
    "                continue\n",
    "                 \n",
    "            cv2.rectangle(img, (x,y), (x+w,y+h), (255,0,255),4,8) \n",
    " \n",
    "     \n",
    "    cv2.imshow('YOLO Face detection',img)\n",
    "  \n",
    "    # Wait for Esc key to stop\n",
    "    if cv2.waitKey(1) &amp;amp;amp;amp;amp; 0xff == 27:\n",
    "        break\n",
    "  \n",
    "# Close the window\n",
    "cap.release()\n",
    "  \n",
    "# De-allocate any associated memory usage\n",
    "cv2.destroyAllWindows()"
   ],
   "cell_type": "code",
   "outputs": [
    {
     "output_type": "error",
     "ename": "SyntaxError",
     "evalue": "invalid syntax (<ipython-input-6-303276dfcf9a>, line 9)",
     "traceback": [
      "\u001b[0;36m  File \u001b[0;32m\"<ipython-input-6-303276dfcf9a>\"\u001b[0;36m, line \u001b[0;32m9\u001b[0m\n\u001b[0;31m    face_api = &amp;amp;amp;amp;quot;http://127.0.0.1:5000/inferImage?detector=yolo&amp;amp;amp;amp;quot;\u001b[0m\n\u001b[0m               ^\u001b[0m\n\u001b[0;31mSyntaxError\u001b[0m\u001b[0;31m:\u001b[0m invalid syntax\n"
     ]
    }
   ],
   "metadata": {},
   "execution_count": 6
  },
  {
   "cell_type": "code",
   "execution_count": null,
   "metadata": {},
   "outputs": [],
   "source": []
  }
 ]
}
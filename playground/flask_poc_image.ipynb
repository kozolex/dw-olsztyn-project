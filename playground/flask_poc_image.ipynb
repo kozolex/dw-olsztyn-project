{
 "nbformat": 4,
 "nbformat_minor": 2,
 "metadata": {
  "language_info": {
   "name": "python",
   "codemirror_mode": {
    "name": "ipython",
    "version": 3
   },
   "version": "3.8.1-final"
  },
  "orig_nbformat": 2,
  "file_extension": ".py",
  "mimetype": "text/x-python",
  "name": "python",
  "npconvert_exporter": "python",
  "pygments_lexer": "ipython3",
  "version": 3,
  "kernelspec": {
   "name": "python38164bitfacedetectconda2d3cb0a4a0064ada9b2ed2678f4035cf",
   "display_name": "Python 3.8.1 64-bit ('facedetect': conda)"
  }
 },
 "cells": [
  {
   "cell_type": "code",
   "execution_count": 1,
   "metadata": {},
   "outputs": [],
   "source": [
    "import os\n",
    "from flask import Flask, render_template, request\n",
    "\n",
    "__author__ = 'kozolex'\n",
    "\n",
    "app = Flask(__name__)\n",
    "\n",
    "APP_ROOT = os.path.dirname(os.path.abspath(__file__))\n",
    "\n",
    "@app.route('/')\n",
    "def index():\n",
    "    return render_template('upload.html')\n",
    "\n",
    "@app.route('/upload')\n",
    "def upload():\n",
    "    target = os.path.join(APP_ROOT, 'images/')\n",
    "    print(target)\n"
   ]
  },
  {
   "cell_type": "code",
   "execution_count": null,
   "metadata": {},
   "outputs": [],
   "source": []
  }
 ]
}